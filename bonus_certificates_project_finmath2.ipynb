{
 "cells": [
  {
   "cell_type": "markdown",
   "id": "014288ad",
   "metadata": {},
   "source": [
    "Bonus Certificates Project"
   ]
  }
 ],
 "metadata": {
  "language_info": {
   "name": "python"
  }
 },
 "nbformat": 4,
 "nbformat_minor": 5
}
