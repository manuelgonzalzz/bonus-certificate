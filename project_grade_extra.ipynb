{
 "cells": [
  {
   "cell_type": "markdown",
   "id": "e9f7c098-cd25-42a9-b009-12b6d908f987",
   "metadata": {},
   "source": [
    "# Grade Bonus Task"
   ]
  },
  {
   "cell_type": "markdown",
   "id": "d6b66b04-7df3-41ed-b7f4-5f43e08933da",
   "metadata": {},
   "source": [
    "In your grade bonus task, you will investigate what **Bonus Certificates** are and how to price them. You may ignore credit risk considerations. Moreover, assumem any fraction of securities is tradable at any time and that riskless return of the Bank account is given by r = 2% p.a.\n"
   ]
  },
  {
   "cell_type": "markdown",
   "id": "075c690b-312e-402f-9b2b-62bd6900212c",
   "metadata": {},
   "source": [
    "### **Task 1:** Plot the evolution of the stock and the log-returns and investigate their mean, std, minimum, maximum and their quartiles"
   ]
  },
  {
   "cell_type": "code",
   "execution_count": 15,
   "id": "fe33e3ae-a8d4-4520-b303-7443794cbfe3",
   "metadata": {},
   "outputs": [],
   "source": [
    "import pandas as pd\n",
    "import matplotlib.pyplot as plt\n",
    "import numpy as np"
   ]
  },
  {
   "cell_type": "code",
   "execution_count": 16,
   "id": "a9a4deee-8d3f-45c7-8289-ee7b816312b2",
   "metadata": {},
   "outputs": [],
   "source": [
    "data = pd.read_csv(\"Telekom.csv\", header = 0)"
   ]
  },
  {
   "cell_type": "code",
   "execution_count": 17,
   "id": "2f19a4ae-b089-427e-9fd1-1767db30eece",
   "metadata": {},
   "outputs": [
    {
     "data": {
      "text/html": [
       "<div>\n",
       "<style scoped>\n",
       "    .dataframe tbody tr th:only-of-type {\n",
       "        vertical-align: middle;\n",
       "    }\n",
       "\n",
       "    .dataframe tbody tr th {\n",
       "        vertical-align: top;\n",
       "    }\n",
       "\n",
       "    .dataframe thead th {\n",
       "        text-align: right;\n",
       "    }\n",
       "</style>\n",
       "<table border=\"1\" class=\"dataframe\">\n",
       "  <thead>\n",
       "    <tr style=\"text-align: right;\">\n",
       "      <th></th>\n",
       "      <th>Date</th>\n",
       "      <th>Close</th>\n",
       "    </tr>\n",
       "  </thead>\n",
       "  <tbody>\n",
       "    <tr>\n",
       "      <th>0</th>\n",
       "      <td>2014-06-17</td>\n",
       "      <td>12.585</td>\n",
       "    </tr>\n",
       "    <tr>\n",
       "      <th>1</th>\n",
       "      <td>2014-06-18</td>\n",
       "      <td>12.660</td>\n",
       "    </tr>\n",
       "    <tr>\n",
       "      <th>2</th>\n",
       "      <td>2014-06-19</td>\n",
       "      <td>12.800</td>\n",
       "    </tr>\n",
       "    <tr>\n",
       "      <th>3</th>\n",
       "      <td>2014-06-20</td>\n",
       "      <td>12.735</td>\n",
       "    </tr>\n",
       "    <tr>\n",
       "      <th>4</th>\n",
       "      <td>2014-06-23</td>\n",
       "      <td>12.675</td>\n",
       "    </tr>\n",
       "  </tbody>\n",
       "</table>\n",
       "</div>"
      ],
      "text/plain": [
       "         Date   Close\n",
       "0  2014-06-17  12.585\n",
       "1  2014-06-18  12.660\n",
       "2  2014-06-19  12.800\n",
       "3  2014-06-20  12.735\n",
       "4  2014-06-23  12.675"
      ]
     },
     "execution_count": 17,
     "metadata": {},
     "output_type": "execute_result"
    }
   ],
   "source": [
    "data.head()"
   ]
  },
  {
   "cell_type": "code",
   "execution_count": 18,
   "id": "7c7328df-1db6-4f22-aa97-05e5904616a0",
   "metadata": {},
   "outputs": [
    {
     "data": {
      "text/plain": [
       "Index(['Date', 'Close'], dtype='object')"
      ]
     },
     "execution_count": 18,
     "metadata": {},
     "output_type": "execute_result"
    }
   ],
   "source": [
    "data.columns"
   ]
  },
  {
   "cell_type": "code",
   "execution_count": 19,
   "id": "88b3ed83-5690-4d64-818d-e6212957cd22",
   "metadata": {},
   "outputs": [
    {
     "data": {
      "text/plain": [
       "Date      object\n",
       "Close    float64\n",
       "dtype: object"
      ]
     },
     "execution_count": 19,
     "metadata": {},
     "output_type": "execute_result"
    }
   ],
   "source": [
    "data.dtypes"
   ]
  },
  {
   "cell_type": "code",
   "execution_count": 20,
   "id": "7f722548-d13d-4e66-bc4a-6b806c29ce33",
   "metadata": {},
   "outputs": [
    {
     "data": {
      "text/html": [
       "<div>\n",
       "<style scoped>\n",
       "    .dataframe tbody tr th:only-of-type {\n",
       "        vertical-align: middle;\n",
       "    }\n",
       "\n",
       "    .dataframe tbody tr th {\n",
       "        vertical-align: top;\n",
       "    }\n",
       "\n",
       "    .dataframe thead th {\n",
       "        text-align: right;\n",
       "    }\n",
       "</style>\n",
       "<table border=\"1\" class=\"dataframe\">\n",
       "  <thead>\n",
       "    <tr style=\"text-align: right;\">\n",
       "      <th></th>\n",
       "      <th>Date</th>\n",
       "      <th>Close</th>\n",
       "    </tr>\n",
       "  </thead>\n",
       "  <tbody>\n",
       "    <tr>\n",
       "      <th>0</th>\n",
       "      <td>2014-06-17</td>\n",
       "      <td>12.585</td>\n",
       "    </tr>\n",
       "    <tr>\n",
       "      <th>1</th>\n",
       "      <td>2014-06-18</td>\n",
       "      <td>12.660</td>\n",
       "    </tr>\n",
       "    <tr>\n",
       "      <th>2</th>\n",
       "      <td>2014-06-19</td>\n",
       "      <td>12.800</td>\n",
       "    </tr>\n",
       "    <tr>\n",
       "      <th>3</th>\n",
       "      <td>2014-06-20</td>\n",
       "      <td>12.735</td>\n",
       "    </tr>\n",
       "    <tr>\n",
       "      <th>4</th>\n",
       "      <td>2014-06-23</td>\n",
       "      <td>12.675</td>\n",
       "    </tr>\n",
       "  </tbody>\n",
       "</table>\n",
       "</div>"
      ],
      "text/plain": [
       "        Date   Close\n",
       "0 2014-06-17  12.585\n",
       "1 2014-06-18  12.660\n",
       "2 2014-06-19  12.800\n",
       "3 2014-06-20  12.735\n",
       "4 2014-06-23  12.675"
      ]
     },
     "execution_count": 20,
     "metadata": {},
     "output_type": "execute_result"
    }
   ],
   "source": [
    "# Date to DateTime\n",
    "data['Date'] = pd.to_datetime(data['Date'])\n",
    "data.head()"
   ]
  },
  {
   "cell_type": "code",
   "execution_count": 21,
   "id": "4308847d-18d8-4dd4-90bb-7a2146fc2ff0",
   "metadata": {
    "scrolled": true
   },
   "outputs": [
    {
     "data": {
      "text/html": [
       "<div>\n",
       "<style scoped>\n",
       "    .dataframe tbody tr th:only-of-type {\n",
       "        vertical-align: middle;\n",
       "    }\n",
       "\n",
       "    .dataframe tbody tr th {\n",
       "        vertical-align: top;\n",
       "    }\n",
       "\n",
       "    .dataframe thead th {\n",
       "        text-align: right;\n",
       "    }\n",
       "</style>\n",
       "<table border=\"1\" class=\"dataframe\">\n",
       "  <thead>\n",
       "    <tr style=\"text-align: right;\">\n",
       "      <th></th>\n",
       "      <th>Close</th>\n",
       "    </tr>\n",
       "    <tr>\n",
       "      <th>Date</th>\n",
       "      <th></th>\n",
       "    </tr>\n",
       "  </thead>\n",
       "  <tbody>\n",
       "    <tr>\n",
       "      <th>2014-06-17</th>\n",
       "      <td>12.585</td>\n",
       "    </tr>\n",
       "    <tr>\n",
       "      <th>2014-06-18</th>\n",
       "      <td>12.660</td>\n",
       "    </tr>\n",
       "    <tr>\n",
       "      <th>2014-06-19</th>\n",
       "      <td>12.800</td>\n",
       "    </tr>\n",
       "    <tr>\n",
       "      <th>2014-06-20</th>\n",
       "      <td>12.735</td>\n",
       "    </tr>\n",
       "    <tr>\n",
       "      <th>2014-06-23</th>\n",
       "      <td>12.675</td>\n",
       "    </tr>\n",
       "  </tbody>\n",
       "</table>\n",
       "</div>"
      ],
      "text/plain": [
       "             Close\n",
       "Date              \n",
       "2014-06-17  12.585\n",
       "2014-06-18  12.660\n",
       "2014-06-19  12.800\n",
       "2014-06-20  12.735\n",
       "2014-06-23  12.675"
      ]
     },
     "execution_count": 21,
     "metadata": {},
     "output_type": "execute_result"
    }
   ],
   "source": [
    "data.set_index('Date', inplace=True)\n",
    "data.head()"
   ]
  },
  {
   "cell_type": "code",
   "execution_count": 22,
   "id": "0d5ae89f-0530-4468-96ab-ecbc0a446476",
   "metadata": {},
   "outputs": [
    {
     "data": {
      "text/plain": [
       "Text(0, 0.5, 'Value $')"
      ]
     },
     "execution_count": 22,
     "metadata": {},
     "output_type": "execute_result"
    },
    {
     "data": {
      "image/png": "[encoded data removed]",
      "text/plain": [
       "<Figure size 640x480 with 1 Axes>"
      ]
     },
     "metadata": {},
     "output_type": "display_data"
    }
   ],
   "source": [
    "plt.title(\"Stock Value\")\n",
    "plt.plot(data[\"Close\"])\n",
    "plt.xlabel(\"Date\")\n",
    "plt.ylabel(\"Value $\")"
   ]
  },
  {
   "cell_type": "code",
   "execution_count": 23,
   "id": "cfc353ab-cd09-4191-aa2d-e85d7b648149",
   "metadata": {},
   "outputs": [
    {
     "name": "stdout",
     "output_type": "stream",
     "text": [
      "=== Stock Price Statistics ===\n",
      "Mean:                  16.28\n",
      "Daily Std Dev:         2.59\n",
      "Annualized Std Dev:    38.88\n",
      "Minimum:               10.35\n",
      "Maximum:               23.30\n",
      "1st Quartile (Q1):     14.77\n",
      "Median (Q2):           15.64\n",
      "3rd Quartile (Q3):     17.48\n"
     ]
    }
   ],
   "source": [
    "mean = data[\"Close\"].mean()\n",
    "std_daily = data[\"Close\"].std()\n",
    "std_annual = std_daily * np.sqrt(225)\n",
    "minimum = data[\"Close\"].min()\n",
    "maximum = data[\"Close\"].max()\n",
    "q1 = data[\"Close\"].quantile(0.25)\n",
    "q2 = data[\"Close\"].quantile(0.50)  # median value\n",
    "q3 = data[\"Close\"].quantile(0.75)\n",
    "print(\"=== Stock Price Statistics ===\")\n",
    "print(f\"Mean:                  {mean:.2f}\")\n",
    "print(f\"Daily Std Dev:         {std_daily:.2f}\")\n",
    "print(f\"Annualized Std Dev:    {std_annual:.2f}\")\n",
    "print(f\"Minimum:               {minimum:.2f}\")\n",
    "print(f\"Maximum:               {maximum:.2f}\")\n",
    "print(f\"1st Quartile (Q1):     {q1:.2f}\")\n",
    "print(f\"Median (Q2):           {q2:.2f}\")\n",
    "print(f\"3rd Quartile (Q3):     {q3:.2f}\")\n"
   ]
  },
  {
   "cell_type": "markdown",
   "id": "896a7a75-5c3d-4bd5-a78b-6434a69c8e3a",
   "metadata": {},
   "source": [
    "Now let us plot the log returns:\n",
    "\n",
    "$$\n",
    "r_t = ln\\left(\\frac{P_{t+i}}{P_t}\\right) = ln(P_{t+1})-ln(P_t)\n",
    "$$\n",
    "\n"
   ]
  },
  {
   "cell_type": "code",
   "execution_count": 24,
   "id": "d9b9d3bf-dfc7-4cbe-8332-33bcd4662910",
   "metadata": {},
   "outputs": [
    {
     "data": {
      "text/plain": [
       "Text(0, 0.5, 'Log Return')"
      ]
     },
     "execution_count": 24,
     "metadata": {},
     "output_type": "execute_result"
    },
    {
     "data": {
      "image/png": "[encoded data removed]",
      "text/plain": [
       "<Figure size 640x480 with 1 Axes>"
      ]
     },
     "metadata": {},
     "output_type": "display_data"
    }
   ],
   "source": [
    "data[\"LogReturn\"] = np.log(data['Close']).diff()\n",
    "data.head()\n",
    "plt.title(\"Log returns\")\n",
    "plt.plot(data[\"LogReturn\"])\n",
    "plt.xlabel(\"Date\")\n",
    "plt.ylabel(\"Log Return\")"
   ]
  },
  {
   "cell_type": "code",
   "execution_count": 25,
   "id": "5387f078-69d9-4fdd-8d5a-613b550e4b18",
   "metadata": {},
   "outputs": [
    {
     "name": "stdout",
     "output_type": "stream",
     "text": [
      "=== Log Return Statistics ===\n",
      "Mean daily log return:     0.000231\n",
      "Daily volatility (std):    0.013379\n",
      "Annualized volatility:     0.212393\n",
      "Minimum:                   -0.112673\n",
      "Maximum:                   0.063141\n",
      "1st Quartile (Q1):         -0.005909\n",
      "Median (Q2):               0.000000\n",
      "3rd Quartile (Q3):         0.007092\n"
     ]
    }
   ],
   "source": [
    "log_returns = data['LogReturn'].dropna()\n",
    "\n",
    "# Mean log-returns (per day)\n",
    "mean_log_return = log_returns.mean()\n",
    " # remove the NaN values\n",
    "n_days = len(log_returns)\n",
    "\n",
    "# Daily std (volatilidad diaria)\n",
    "daily_vol = log_returns.std(ddof=1)\n",
    "\n",
    "# annualzied now\n",
    "annual_vol = daily_vol * np.sqrt(252)\n",
    "\n",
    "# maybe extra stats\n",
    "min_log_return = log_returns.min()\n",
    "max_log_return = log_returns.max()\n",
    "q1_log_return = log_returns.quantile(0.25)\n",
    "q2_log_return = log_returns.quantile(0.50)\n",
    "q3_log_return = log_returns.quantile(0.75)\n",
    "\n",
    "\n",
    "print(\"=== Log Return Statistics ===\")\n",
    "print(f\"Mean daily log return:     {mean_log_return:.6f}\")\n",
    "print(f\"Daily volatility (std):    {daily_vol:.6f}\")\n",
    "print(f\"Annualized volatility:     {annual_vol:.6f}\")\n",
    "print(f\"Minimum:                   {min_log_return:.6f}\")\n",
    "print(f\"Maximum:                   {max_log_return:.6f}\")\n",
    "print(f\"1st Quartile (Q1):         {q1_log_return:.6f}\")\n",
    "print(f\"Median (Q2):               {q2_log_return:.6f}\")\n",
    "print(f\"3rd Quartile (Q3):         {q3_log_return:.6f}\")\n"
   ]
  },
  {
   "cell_type": "markdown",
   "id": "aac07b64-aaf7-423e-8587-ba03f29b5d0b",
   "metadata": {},
   "source": [
    "Let's compute now the drawdowns of the stock prices"
   ]
  },
  {
   "cell_type": "code",
   "execution_count": 26,
   "id": "5436f3c7-0efa-4882-b03d-d01728f5d5cb",
   "metadata": {},
   "outputs": [
    {
     "data": {
      "text/html": [
       "<div>\n",
       "<style scoped>\n",
       "    .dataframe tbody tr th:only-of-type {\n",
       "        vertical-align: middle;\n",
       "    }\n",
       "\n",
       "    .dataframe tbody tr th {\n",
       "        vertical-align: top;\n",
       "    }\n",
       "\n",
       "    .dataframe thead th {\n",
       "        text-align: right;\n",
       "    }\n",
       "</style>\n",
       "<table border=\"1\" class=\"dataframe\">\n",
       "  <thead>\n",
       "    <tr style=\"text-align: right;\">\n",
       "      <th></th>\n",
       "      <th>Wealth</th>\n",
       "      <th>Previous Peak</th>\n",
       "      <th>Drawdown</th>\n",
       "    </tr>\n",
       "    <tr>\n",
       "      <th>Date</th>\n",
       "      <th></th>\n",
       "      <th></th>\n",
       "      <th></th>\n",
       "    </tr>\n",
       "  </thead>\n",
       "  <tbody>\n",
       "    <tr>\n",
       "      <th>2014-06-17</th>\n",
       "      <td>NaN</td>\n",
       "      <td>NaN</td>\n",
       "      <td>NaN</td>\n",
       "    </tr>\n",
       "    <tr>\n",
       "      <th>2014-06-18</th>\n",
       "      <td>1005.959460</td>\n",
       "      <td>1005.959460</td>\n",
       "      <td>0.000000</td>\n",
       "    </tr>\n",
       "    <tr>\n",
       "      <th>2014-06-19</th>\n",
       "      <td>1017.083842</td>\n",
       "      <td>1017.083842</td>\n",
       "      <td>0.000000</td>\n",
       "    </tr>\n",
       "    <tr>\n",
       "      <th>2014-06-20</th>\n",
       "      <td>1011.918921</td>\n",
       "      <td>1017.083842</td>\n",
       "      <td>-0.005078</td>\n",
       "    </tr>\n",
       "    <tr>\n",
       "      <th>2014-06-23</th>\n",
       "      <td>1007.151383</td>\n",
       "      <td>1017.083842</td>\n",
       "      <td>-0.009766</td>\n",
       "    </tr>\n",
       "  </tbody>\n",
       "</table>\n",
       "</div>"
      ],
      "text/plain": [
       "                 Wealth  Previous Peak  Drawdown\n",
       "Date                                            \n",
       "2014-06-17          NaN            NaN       NaN\n",
       "2014-06-18  1005.959460    1005.959460  0.000000\n",
       "2014-06-19  1017.083842    1017.083842  0.000000\n",
       "2014-06-20  1011.918921    1017.083842 -0.005078\n",
       "2014-06-23  1007.151383    1017.083842 -0.009766"
      ]
     },
     "execution_count": 26,
     "metadata": {},
     "output_type": "execute_result"
    }
   ],
   "source": [
    "def drawdown(prices_series: pd.Series):\n",
    "    \"\"\"Takes a time series of asset prices.\n",
    "       returns a DataFrame with columns for\n",
    "       the wealth index, \n",
    "       the previous peaks, and \n",
    "       the percentage drawdown\n",
    "    \"\"\"\n",
    "    return_series = prices_series.pct_change()\n",
    "    wealth_index = 1000*(1+return_series).cumprod()\n",
    "    previous_peaks = wealth_index.cummax()\n",
    "    drawdowns = (wealth_index - previous_peaks)/previous_peaks\n",
    "    return pd.DataFrame({\"Wealth\": wealth_index, \n",
    "                         \"Previous Peak\": previous_peaks, \n",
    "                         \"Drawdown\": drawdowns})\n",
    "\n",
    "data_drawdown = drawdown(data[\"Close\"])\n",
    "data_drawdown.head()\n"
   ]
  },
  {
   "cell_type": "code",
   "execution_count": 27,
   "id": "1baf7b70-f8a4-40f6-99a6-1a7dab39b951",
   "metadata": {},
   "outputs": [
    {
     "ename": "SyntaxError",
     "evalue": "f-string: unmatched '[' (763679846.py, line 2)",
     "output_type": "error",
     "traceback": [
      "\u001b[0;36m  Cell \u001b[0;32mIn[27], line 2\u001b[0;36m\u001b[0m\n\u001b[0;31m    print(f\"Maximum Drawdown: {data_drawdown[\"Drawdown\"].min()}\")\u001b[0m\n\u001b[0m                                              ^\u001b[0m\n\u001b[0;31mSyntaxError\u001b[0m\u001b[0;31m:\u001b[0m f-string: unmatched '['\n"
     ]
    }
   ],
   "source": [
    "plt.plot(data_drawdown[\"Drawdown\"])\n",
    "print(f\"Maximum Drawdown: {data_drawdown[\"Drawdown\"].min()}\")"
   ]
  },
  {
   "cell_type": "markdown",
   "id": "18629660-6b54-417a-b077-8f6f6096f440",
   "metadata": {},
   "source": [
    "### **Task 2:** Fit a Black-Scholes model to the time series *Telekom.csv*"
   ]
  },
  {
   "cell_type": "markdown",
   "id": "3a00d2d2-3cfb-4459-bdb1-7ae7db02592c",
   "metadata": {},
   "source": [
    "The **classical Black-Scholes model**, is given by: \n",
    "$$\n",
    "dB_t = rB_tdt, B_0 =1\n",
    "$$\n",
    "$$\n",
    "dP_t = P_t(bdt+\\sigma dW_t), P_0 = p_0>0\n",
    "$$\n",
    "$$\n",
    "P_t = P_0 \\exp\\left(b-\\frac{1}{2}\\sigma^2\\right)t+\\sigma W_t\n",
    "$$\n",
    "$$\n",
    "b = \\frac{E[\\frac{P_{t+1}}{P_t}]}{\\Delta t}+\\frac{1}{2}\\sigma^2\n",
    "$$"
   ]
  },
  {
   "cell_type": "code",
   "execution_count": null,
   "id": "7d8f13ab-5e33-476c-b470-1e8a236fdf8a",
   "metadata": {},
   "outputs": [],
   "source": []
  },
  {
   "cell_type": "code",
   "execution_count": null,
   "id": "d14ac541-813a-4a1c-b288-fbb8710e51d9",
   "metadata": {
    "scrolled": true
   },
   "outputs": [
    {
     "name": "stdout",
     "output_type": "stream",
     "text": [
      "Estimated μ (drift) annualized: 0.080770\n",
      "Estimated Black-Scholes Parameters\n",
      "Mean daily log return:       0.000231\n",
      "Daily volatility (σ):        0.013379\n",
      "Annualized volatility (σ):   0.212393\n"
     ]
    }
   ],
   "source": [
    "# annualized drift\n",
    "mu_annual = mean_log_return * 252 + 0.5 * annual_vol**2\n",
    "print(f\"Estimated μ (drift) annualized: {mu_annual:.6f}\")\n",
    "print(\"Estimated Black-Scholes Parameters\")\n",
    "print(f\"Mean daily log return:       {mean_log_return:.6f}\")\n",
    "print(f\"Daily volatility (σ):        {daily_vol:.6f}\")\n",
    "print(f\"Annualized volatility (σ):   {annual_vol:.6f}\")\n",
    "\n"
   ]
  },
  {
   "cell_type": "markdown",
   "id": "78f2e078-c8b3-4a96-8338-85d2165e9e29",
   "metadata": {},
   "source": [
    "### "
   ]
  },
  {
   "cell_type": "markdown",
   "id": "03bcb1c3-3b37-4935-852f-2d395bd9536d",
   "metadata": {},
   "source": [
    "### **Task 3:** What are Bonus Certificates? Draw their payoff profile. Why would an investor buy any of those certificates? Which risks should be considered?"
   ]
  },
  {
   "cell_type": "markdown",
   "id": "23310979-02fa-4a98-93f7-3d7fc25b9f8d",
   "metadata": {},
   "source": [
    "Explicar riegos y dos tipos de bonus certificates"
   ]
  },
  {
   "cell_type": "markdown",
   "id": "b73cfc56-7726-4c61-964a-98b6fabae487",
   "metadata": {},
   "source": [
    "<!-- A **Bonus Certificate** is a structured financial product that allows investors to benefit from moderate upward movements of the underlying asset while offering partial downside protection. It typically includes a fixed interest component and guarantees a predefined bonus payout at maturity, provided that the underlying asset never breaches a specified lower barrier during the product’s life.\n",
    "\n",
    "If the asset’s price remains above this safety threshold, the investor receives either the bonus amount or the final asset value, whichever is higher.\n",
    "\n",
    "However, if the barrier is breached at any time, the protection mechanism is lost. From that moment on, the certificate behaves like a direct investment in the underlying asset, and the investor bears full downside risk without the right to the bonus payout. -->"
   ]
  },
  {
   "cell_type": "code",
   "execution_count": null,
   "id": "479a70b8-eaa5-4b38-9e44-2fc7f764ccac",
   "metadata": {
    "scrolled": true
   },
   "outputs": [
    {
     "name": "stdout",
     "output_type": "stream",
     "text": [
      "Requirement already satisfied: ipywidgets in c:\\users\\polop\\appdata\\local\\programs\\python\\python312\\lib\\site-packages (8.1.1)\n",
      "Requirement already satisfied: comm>=0.1.3 in c:\\users\\polop\\appdata\\local\\programs\\python\\python312\\lib\\site-packages (from ipywidgets) (0.2.0)\n",
      "Requirement already satisfied: ipython>=6.1.0 in c:\\users\\polop\\appdata\\local\\programs\\python\\python312\\lib\\site-packages (from ipywidgets) (8.18.1)\n",
      "Requirement already satisfied: traitlets>=4.3.1 in c:\\users\\polop\\appdata\\local\\programs\\python\\python312\\lib\\site-packages (from ipywidgets) (5.14.0)\n",
      "Requirement already satisfied: widgetsnbextension~=4.0.9 in c:\\users\\polop\\appdata\\local\\programs\\python\\python312\\lib\\site-packages (from ipywidgets) (4.0.9)\n",
      "Requirement already satisfied: jupyterlab-widgets~=3.0.9 in c:\\users\\polop\\appdata\\local\\programs\\python\\python312\\lib\\site-packages (from ipywidgets) (3.0.9)\n",
      "Requirement already satisfied: decorator in c:\\users\\polop\\appdata\\local\\programs\\python\\python312\\lib\\site-packages (from ipython>=6.1.0->ipywidgets) (5.1.1)\n",
      "Requirement already satisfied: jedi>=0.16 in c:\\users\\polop\\appdata\\local\\programs\\python\\python312\\lib\\site-packages (from ipython>=6.1.0->ipywidgets) (0.19.1)\n",
      "Requirement already satisfied: matplotlib-inline in c:\\users\\polop\\appdata\\local\\programs\\python\\python312\\lib\\site-packages (from ipython>=6.1.0->ipywidgets) (0.1.6)\n",
      "Requirement already satisfied: prompt-toolkit<3.1.0,>=3.0.41 in c:\\users\\polop\\appdata\\local\\programs\\python\\python312\\lib\\site-packages (from ipython>=6.1.0->ipywidgets) (3.0.41)\n",
      "Requirement already satisfied: pygments>=2.4.0 in c:\\users\\polop\\appdata\\local\\programs\\python\\python312\\lib\\site-packages (from ipython>=6.1.0->ipywidgets) (2.17.2)\n",
      "Requirement already satisfied: stack-data in c:\\users\\polop\\appdata\\local\\programs\\python\\python312\\lib\\site-packages (from ipython>=6.1.0->ipywidgets) (0.6.3)\n",
      "Requirement already satisfied: colorama in c:\\users\\polop\\appdata\\local\\programs\\python\\python312\\lib\\site-packages (from ipython>=6.1.0->ipywidgets) (0.4.6)\n",
      "Requirement already satisfied: parso<0.9.0,>=0.8.3 in c:\\users\\polop\\appdata\\local\\programs\\python\\python312\\lib\\site-packages (from jedi>=0.16->ipython>=6.1.0->ipywidgets) (0.8.3)\n",
      "Requirement already satisfied: wcwidth in c:\\users\\polop\\appdata\\local\\programs\\python\\python312\\lib\\site-packages (from prompt-toolkit<3.1.0,>=3.0.41->ipython>=6.1.0->ipywidgets) (0.2.12)\n",
      "Requirement already satisfied: executing>=1.2.0 in c:\\users\\polop\\appdata\\local\\programs\\python\\python312\\lib\\site-packages (from stack-data->ipython>=6.1.0->ipywidgets) (2.0.1)\n",
      "Requirement already satisfied: asttokens>=2.1.0 in c:\\users\\polop\\appdata\\local\\programs\\python\\python312\\lib\\site-packages (from stack-data->ipython>=6.1.0->ipywidgets) (2.4.1)\n",
      "Requirement already satisfied: pure-eval in c:\\users\\polop\\appdata\\local\\programs\\python\\python312\\lib\\site-packages (from stack-data->ipython>=6.1.0->ipywidgets) (0.2.2)\n",
      "Requirement already satisfied: six>=1.12.0 in c:\\users\\polop\\appdata\\local\\programs\\python\\python312\\lib\\site-packages (from asttokens>=2.1.0->stack-data->ipython>=6.1.0->ipywidgets) (1.17.0)\n"
     ]
    },
    {
     "name": "stderr",
     "output_type": "stream",
     "text": [
      "\n",
      "[notice] A new release of pip is available: 25.0.1 -> 25.1.1\n",
      "[notice] To update, run: python.exe -m pip install --upgrade pip\n"
     ]
    }
   ],
   "source": [
    "!pip install ipywidgets"
   ]
  },
  {
   "cell_type": "code",
   "execution_count": null,
   "id": "da4c462a-a955-4a4d-8fe2-d0306c16b8c5",
   "metadata": {},
   "outputs": [],
   "source": [
    "import ipywidgets as widgets\n",
    "from IPython.display import display"
   ]
  },
  {
   "cell_type": "code",
   "execution_count": null,
   "id": "9a2b42be-4c59-4660-9f3f-ebdf8fb20e87",
   "metadata": {},
   "outputs": [
    {
     "data": {
      "application/vnd.jupyter.widget-view+json": {
       "model_id": "ccf0ac8415a041a7a15961cee098aa1f",
       "version_major": 2,
       "version_minor": 0
      },
      "text/plain": [
       "interactive(children=(IntSlider(value=110, description='BonusLevel', max=130, min=100), IntSlider(value=70, de…"
      ]
     },
     "metadata": {},
     "output_type": "display_data"
    }
   ],
   "source": [
    "import numpy as np\n",
    "import matplotlib.pyplot as plt\n",
    "import ipywidgets as widgets\n",
    "from IPython.display import display\n",
    "\n",
    "def bonus_certificate_plot(BonusLevel=110, Barrier=70):\n",
    "    P_T = np.linspace(50, 150, 500)\n",
    "    P_0 = 100\n",
    "\n",
    "    # Payoff  Bonus Certificate\n",
    "    payoff = np.where(\n",
    "        P_T >= Barrier,                    # Not touched barrier\n",
    "        np.maximum(P_T, BonusLevel),      # Cobras el máximo entre precio final y bonus garantizado\n",
    "        P_T                                # broken barrier once → stock owners\n",
    "    )\n",
    "\n",
    "    profit = payoff - P_0\n",
    "    stock_profit = P_T - P_0\n",
    "\n",
    "    # Gráfico\n",
    "    plt.figure(figsize=(10, 5))\n",
    "    plt.plot(P_T, profit, label='Bonus Certificate Profit/Loss', color='blue')\n",
    "    plt.plot(P_T, stock_profit, '--', label='Stock Profit/Loss', color='gray')\n",
    "\n",
    "    # reference lines\n",
    "    plt.axhline(0, color='black', linestyle='-')\n",
    "    plt.axvline(Barrier, color='red', linestyle=':', label='Barrier (Safety Threshold)')\n",
    "    plt.axhline(BonusLevel - P_0, color='green', linestyle='--', label='Minimum Guaranteed Profit')\n",
    "    plt.axvline(BonusLevel, color='yellow', linestyle='--', label='Bonus Level (Payoff €)')\n",
    "\n",
    "    plt.xlabel('Final Stock Price $P_T$')\n",
    "    plt.ylabel('Profit / Loss')\n",
    "    plt.title('Bonus Certificate vs Direct Stock Investment')\n",
    "    plt.legend()\n",
    "    plt.grid(True)\n",
    "    plt.show()\n",
    "\n",
    "# Widgets \n",
    "interactive_plot = widgets.interactive(\n",
    "    bonus_certificate_plot,\n",
    "    BonusLevel=(100, 130, 1),\n",
    "    Barrier=(50, 100, 1)\n",
    ")\n",
    "\n",
    "display(interactive_plot)\n",
    "\n"
   ]
  },
  {
   "cell_type": "markdown",
   "id": "06948570-1d3e-457e-9ce2-5a04fc9c476f",
   "metadata": {},
   "source": [
    "### **Task 4:** Find a portfolio of products you know from the lecture and the exercices that replicate the certificate."
   ]
  },
  {
   "cell_type": "markdown",
   "id": "c9981101-1820-43d8-a54d-e0685456af73",
   "metadata": {},
   "source": [
    "To replicate the classic bonus certificate, we consider a **long position in the underlying** and a **down-and-out put option** with strike equal to the bonus level $K$ and barrier $B$.\n",
    "\n",
    "- The **underlying** provides a payoff of $P_T$ at maturity.\n",
    "- The **down-and-out put** pays $K - P_T$ if $P_T < K$ and the barrier $B$ has **not** been breached during the product's lifetime. Otherwise, it expires worthless.\n",
    "\n",
    "Thus, the **total payoff** becom- If the barrier was not breached:  \n",
    "  $$\n",
    "  \\text{Payoff} = (P_T + \\max(K - P_T, 0)) - P_0 = \\max(P_T, K) - P_0\n",
    "  $$  \n",
    "  which results in a **guaranteed minimum** of $K - P_0$.\n",
    "\n",
    "- If the barrier was breached:  \n",
    "  $$\n",
    "  \\text{Payoff} = P_T - P_0\n",
    "  $$  \n",
    "  and the product behaves like a direct investment in the stock.\n",
    "in the stock.\n",
    "\n",
    "This replication captures the core behavior of a classic bonus certificate: **capital protection up to the barrier** and linear participation otherwise.\n",
    "pation otherwise.\n",
    " n otherwise.\n"
   ]
  },
  {
   "cell_type": "code",
   "execution_count": null,
   "id": "95154578-c6a6-4bc0-838d-49d5b1bf4c36",
   "metadata": {},
   "outputs": [
    {
     "data": {
      "application/vnd.jupyter.widget-view+json": {
       "model_id": "9be3ff009447422c837926db00f06485",
       "version_major": 2,
       "version_minor": 0
      },
      "text/plain": [
       "interactive(children=(FloatSlider(value=0.05, description='Drift μ', max=0.2, min=-0.1, step=0.005), FloatSlid…"
      ]
     },
     "metadata": {},
     "output_type": "display_data"
    }
   ],
   "source": [
    "import numpy as np\n",
    "import matplotlib.pyplot as plt\n",
    "import ipywidgets as widgets\n",
    "from IPython.display import display\n",
    "\n",
    "# Function to simulate GBM\n",
    "def simulate_gbm(S0, T, N, mu, sigma):\n",
    "    dt = T / N\n",
    "    t = np.linspace(0, T, N+1)\n",
    "    W = np.random.standard_normal(size=N)\n",
    "    W = np.insert(np.cumsum(np.sqrt(dt) * W), 0, 0)\n",
    "\n",
    "    drift = mu  \n",
    "    S = S0 * np.exp((drift - 0.5 * sigma**2) * t + sigma * W)\n",
    "    return t, S\n",
    "\n",
    "# Global variables\n",
    "global_barrier_breached = None\n",
    "global_final_price = None\n",
    "global_P0 = 100\n",
    "\n",
    "# Plot function with barrier\n",
    "def plot_gbm_with_barrier(mu, sigma, T, N,  barrier, S0=global_P0):\n",
    "    global global_barrier_breached, global_final_price\n",
    "\n",
    "    t, S = simulate_gbm(S0, T, N, mu, sigma)\n",
    "    breached = np.any(S < barrier)\n",
    "    final_price = S[-1]\n",
    "\n",
    "    # Store results\n",
    "    global_barrier_breached = breached\n",
    "    global_final_price = final_price\n",
    "\n",
    "    # Plot\n",
    "    plt.figure(figsize=(10, 5))\n",
    "    plt.plot(t, S, label='GBM Path')\n",
    "    plt.axhline(y=barrier, color='red', linestyle='--', label=f'Barrier Level: {barrier}')\n",
    "    plt.title(\"GBM Simulation with Barrier Check\")\n",
    "    plt.xlabel(\"Time (Years)\")\n",
    "    plt.ylabel(\"Stock Price\")\n",
    "    plt.legend(loc='center left', bbox_to_anchor=(1.02, 0.5), borderaxespad=0.)\n",
    "    plt.grid(True)\n",
    "    plt.show()\n",
    "\n",
    "    if breached:\n",
    "        print(f\" Barrier was breached during the simulation.\")\n",
    "    else:\n",
    "        print(f\" Barrier was NOT breached.\")\n",
    "    print(f\" Final Price: {final_price:.2f}\")\n",
    "\n",
    "# Interactive widget\n",
    "interactive_gbm_barrier = widgets.interactive(\n",
    "    plot_gbm_with_barrier,\n",
    "    S0=widgets.FloatSlider(value=100, min=10, max=160, step=5, description='Initial Price'),\n",
    "    mu=widgets.FloatSlider(value=0.05, min=-0.1, max=0.2, step=0.005, description='Drift μ'),\n",
    "    sigma=widgets.FloatSlider(value=0.05, min=0.01, max=1.0, step=0.01, description='Volatility σ'),\n",
    "    T=widgets.FloatSlider(value=1.0, min=0.1, max=5.0, step=0.1, description='Time (yrs)'),\n",
    "    N=widgets.IntSlider(value=500, min=50, max=1000, step=10, description='Steps'),\n",
    "    r=widgets.FloatSlider(value=0.02, min=0.0, max=0.1, step=0.005, description='Risk-Free Rate'),\n",
    "    barrier=widgets.FloatSlider(value=90, min=0, max=200, step=1, description='Barrier Level')\n",
    ")\n",
    "\n",
    "display(interactive_gbm_barrier)\n"
   ]
  },
  {
   "cell_type": "code",
   "execution_count": null,
   "id": "11b910f2-be7d-42c9-88f8-a457b2833976",
   "metadata": {},
   "outputs": [
    {
     "data": {
      "application/vnd.jupyter.widget-view+json": {
       "model_id": "01b9f4d02d19428aad8382bf7ebdeef8",
       "version_major": 2,
       "version_minor": 0
      },
      "text/plain": [
       "interactive(children=(IntSlider(value=140, description='BonusLevel', max=140, min=100), IntSlider(value=70, de…"
      ]
     },
     "metadata": {},
     "output_type": "display_data"
    }
   ],
   "source": [
    "import numpy as np\n",
    "import matplotlib.pyplot as plt\n",
    "import ipywidgets as widgets\n",
    "from IPython.display import display\n",
    "def plot_classic_bonus_replication(BonusLevel=110, BarrierLevel=90, P0=global_P0, BarrierBreached=global_barrier_breached, premium=5):\n",
    "    \"\"\"\n",
    "    Interactive plot for replicating a Classic Bonus Certificate.\n",
    "\n",
    "    Inputs:\n",
    "    - BonusLevel: Strike price of the down-and-out put option.\n",
    "    - BarrierLevel: Barrier below which the bonus protection is lost.\n",
    "    - P0: Initial price of the underlying.\n",
    "    - BarrierBreached: 'Yes' if the barrier was touched during the product's lifetime, 'No' otherwise.\n",
    "    - premium: cost to buy the certificate\n",
    "    \"\"\"\n",
    "    P_T = np.linspace(50, 190, 500)\n",
    "    K = BonusLevel\n",
    "\n",
    "    # Handle both global bool or widget string\n",
    "    if isinstance(BarrierBreached, str):\n",
    "        breached = BarrierBreached == 'Yes'\n",
    "    else:\n",
    "        breached = BarrierBreached\n",
    "\n",
    "    stock_payoff = P_T\n",
    "    put_payoff = np.zeros_like(P_T)\n",
    "\n",
    "    if not breached:\n",
    "        valid_region = P_T >= BarrierLevel\n",
    "        put_payoff[valid_region] = np.maximum(K - P_T[valid_region], 0)\n",
    "    else:\n",
    "        valid_region = np.full_like(P_T, True, dtype=bool)\n",
    "\n",
    "    total_payoff = np.where(valid_region, stock_payoff + put_payoff, np.nan)\n",
    "    profit_total = total_payoff - P0 - premium\n",
    "    stock_profit = P_T - P0\n",
    "\n",
    "    plt.figure(figsize=(10, 5))\n",
    "    plt.plot(P_T, profit_total, label='Bonus Certificate Replication', color='blue', linewidth=2)\n",
    "    plt.plot(P_T, stock_profit, '--', label='Stock Only', color='gray')\n",
    "    plt.axhline(0, color='black')\n",
    "    plt.axvline(BonusLevel, color='green', linestyle='--', label='Bonus Level')\n",
    "    plt.axvline(BarrierLevel, color='red', linestyle='--', label='Barrier Level')\n",
    "    title = \"No Barrier Breach (only $P_T \\\\geq$ Barrier)\" if not breached else \"Barrier Breached\"\n",
    "    plt.title(f'Classic Bonus Certificate Replication ({title})')\n",
    "    plt.xlabel('Final Stock Price $P_T$')\n",
    "    plt.ylabel('Profit / Loss')\n",
    "    plt.grid(True)\n",
    "    plt.legend(loc='center left', bbox_to_anchor=(1.02, 0.5), borderaxespad=0.)\n",
    "    plt.show()\n",
    "\n",
    "# Interactive widget setup\n",
    "interactive_plot_bonus_corrected = widgets.interactive(\n",
    "    plot_classic_bonus_replication,\n",
    "    BonusLevel=widgets.IntSlider(value=140, min=100, max=140, step=1),\n",
    "    premium=widgets.IntSlider(value=5, min=0, max=20, step=1),\n",
    "    BarrierLevel=widgets.IntSlider(value=70, min=70, max=100, step=1),\n",
    "    P0=widgets.IntSlider(value=100, min=80, max=120, step=1),\n",
    "    BarrierBreached=widgets.Dropdown(\n",
    "        options=[('No', 'No'), ('Yes', 'Yes')],\n",
    "        value='No',\n",
    "        description='Barrier Breached:'\n",
    "    )\n",
    ")\n",
    "\n",
    "display(interactive_plot_bonus_corrected)\n"
   ]
  },
  {
   "cell_type": "markdown",
   "id": "52dbd01e-ee7c-4af4-b1de-a9ee61c1f891",
   "metadata": {},
   "source": [
    "To replicate the **capped bonus certificate**, we combine three components:  \n",
    "a **long position in the underlying**, a **down-and-out put option** with strike equal to the bonus level $K$ and barrier $B$, and a **short call option** with strike equal to the cap level $C$.\n",
    "\n",
    "- The **underlying** provides a payoff of $P_T$ at maturity.\n",
    "- The **down-and-out put** pays $K - P_T$ if $P_T < K$ and the barrier $B$ has **not** been breached during the product's lifetime. It expires worthless otherwise.\n",
    "- The **short call** subtracts $\\max(P_T - C, 0)$ if $P_T > C$, effectively capping the upside.\n",
    "\n",
    "The total payoff depends on whether the barrier has been breached:\n",
    "\n",
    "- **If the barrier was not breached**:  \n",
    "  $$\n",
    "  \\text{Payoff} = \\left(P_T + \\max(K - P_T, 0) - \\max(P_T - C, 0)\\right) - P_0\n",
    "  $$  \n",
    "  This results in a payoff that:\n",
    "  - Guarantees at least $K - P_0$ if $P_T \\geq B$\n",
    "  - Caps the maximum gain at $C - P_0$\n",
    "\n",
    "- **If the barrier was breached**:  \n",
    "  $$\n",
    "  \\text{Payoff} = (P_T - \\max(P_T - C, 0)) - P_0 = \\min(P_T, C) - P_0\n",
    "  $$  \n",
    "  The product loses its capital protection and behaves like a **capped equity participation**.\n",
    "\n",
    "This replication strategy reproduces the key features of a capped bonus certificate:  \n",
    "**downside protection (unless the barrier is breached)** and **upside capped participation**.\n"
   ]
  },
  {
   "cell_type": "code",
   "execution_count": null,
   "id": "848da5a2-3fe1-40a5-89f9-f9ae4dae1fbb",
   "metadata": {},
   "outputs": [
    {
     "data": {
      "application/vnd.jupyter.widget-view+json": {
       "model_id": "4f36be73f84a4f9c9ea9cba96d6334b3",
       "version_major": 2,
       "version_minor": 0
      },
      "text/plain": [
       "interactive(children=(IntSlider(value=110, description='BonusLevel', max=130, min=100), IntSlider(value=90, de…"
      ]
     },
     "metadata": {},
     "output_type": "display_data"
    }
   ],
   "source": [
    "import numpy as np\n",
    "import matplotlib.pyplot as plt\n",
    "import ipywidgets as widgets\n",
    "from IPython.display import display\n",
    "\n",
    "def plot_capped_bonus_replication(BonusLevel=110, BarrierLevel=90, CapLevel=130, P0=global_P0, BarrierBreached=global_barrier_breached):\n",
    "    \"\"\"\n",
    "    Interactive plot for replicating a Capped Bonus Certificate.\n",
    "\n",
    "    Inputs:\n",
    "    - BonusLevel: Strike price of the down-and-out put option.\n",
    "    - BarrierLevel: Barrier below which the bonus protection is lost.\n",
    "    - CapLevel: Strike price of the short call that limits upside participation.\n",
    "    - P0: Initial price of the underlying.\n",
    "    - BarrierBreached: 'Yes' if the barrier was touched during the product's lifetime, 'No' otherwise.\n",
    "\n",
    "    Explanation:\n",
    "    - The product is replicated by combining:\n",
    "      - Long in the underlying\n",
    "      - Down-and-out put with strike = BonusLevel and barrier = BarrierLevel\n",
    "      - Short call with strike = CapLevel\n",
    "    - If the barrier is not breached, payoff is only defined for P_T ≥ BarrierLevel.\n",
    "    \"\"\"\n",
    "    P_T = np.linspace(50, 150, 500)\n",
    "    K = BonusLevel\n",
    "    C = CapLevel\n",
    "\n",
    "    # Convert widget string to boolean if needed\n",
    "    if isinstance(BarrierBreached, str):\n",
    "        breached = BarrierBreached == 'Yes'\n",
    "    else:\n",
    "        breached = BarrierBreached\n",
    "\n",
    "    stock_payoff = P_T\n",
    "    put_payoff = np.zeros_like(P_T)\n",
    "    short_call = -np.maximum(P_T - C, 0)\n",
    "\n",
    "    if not breached:\n",
    "        valid_region = P_T >= BarrierLevel\n",
    "        put_payoff[valid_region] = np.maximum(K - P_T[valid_region], 0)\n",
    "    else:\n",
    "        valid_region = np.full_like(P_T, True, dtype=bool)\n",
    "\n",
    "    total_payoff = np.where(valid_region, stock_payoff + put_payoff + short_call, np.nan)\n",
    "    profit_total = total_payoff - P0\n",
    "    stock_profit = P_T - P0\n",
    "\n",
    "    plt.figure(figsize=(10, 5))\n",
    "    plt.plot(P_T, profit_total, label='Capped Bonus Certificate Replication', color='blue', linewidth=2)\n",
    "    plt.plot(P_T, stock_profit, '--', label='Stock Only', color='gray')\n",
    "    plt.axhline(0, color='black')\n",
    "    plt.axvline(BonusLevel, color='green', linestyle='--', label='Bonus Level')\n",
    "    plt.axvline(BarrierLevel, color='red', linestyle='--', label='Barrier Level')\n",
    "    plt.axvline(CapLevel, color='orange', linestyle='--', label='Cap Level')\n",
    "    title = \"No Barrier Breach (only $P_T \\\\geq$ Barrier)\" if not breached else \"Barrier Breached\"\n",
    "    plt.title(f'Capped Bonus Certificate Replication ({title})')\n",
    "    plt.xlabel('Final Stock Price $P_T$')\n",
    "    plt.ylabel('Profit / Loss')\n",
    "    plt.grid(True)\n",
    "    plt.legend(loc='center left', bbox_to_anchor=(1.02, 0.5), borderaxespad=0.)\n",
    "    plt.show()\n",
    "\n",
    "\n",
    "interactive_plot_capped_bonus = widgets.interactive(\n",
    "    plot_capped_bonus_replication,\n",
    "    BonusLevel=widgets.IntSlider(value=110, min=100, max=130, step=1),\n",
    "    BarrierLevel=widgets.IntSlider(value=90, min=70, max=100, step=1),\n",
    "    CapLevel=widgets.IntSlider(value=130, min=110, max=150, step=1),\n",
    "    P0=widgets.IntSlider(value=100, min=80, max=120, step=1),\n",
    "    BarrierBreached=widgets.Dropdown(options=['No', 'Yes'], value='No', description='Barrier Breached:')\n",
    ")\n",
    "\n",
    "display(interactive_plot_capped_bonus)\n"
   ]
  },
  {
   "cell_type": "markdown",
   "id": "aa6dc48c-381f-4f83-85c7-4667fe17a830",
   "metadata": {},
   "source": [
    "### **Task 5:** Determine a fair price for each of the certificates and compute it explicitly for the market parameters from Task 2) with $P_0$ equal to the price quoted on 14.06.2024, barreir level 16, bonus level 24 and maturity 1 year."
   ]
  },
  {
   "cell_type": "markdown",
   "id": "9d19f372-d2d5-4187-9758-2bebc492540a",
   "metadata": {},
   "source": [
    "![title](hint_task5.png)"
   ]
  },
  {
   "cell_type": "markdown",
   "id": "1d53a6c4-ab72-4146-bda7-34f3c87433bf",
   "metadata": {},
   "source": [
    "### Two types of Bonus Certificates\n",
    "\n",
    "**Remember:** Conditions for bonus certificates are:\n",
    "\n",
    "- During the entire time the price of the certificate is above certain limit\n",
    "- At the maturity time, the price of the underlying is blowe the bonus amount\n",
    "1. **Classic bonus certificates**\n",
    "   If the safety barrier is breached during the term, the classic bonus certificate loses its bonus protection and behaves like a linear certificate, tracking the underlying 1:1 at maturity. However, since the certificate was typically purchased at a premium above the initial price of the underlying, this premium must be taken into account when evaluating the net payoff.\n",
    "\n",
    "2. **Bonus certificates with cap**\n",
    "   Additionally to the classical certificates the capped bonus certificates have a cap. offers a fixed bonus payment at maturity as long as the underlying asset never falls below a predefined barrier during the term. If the barrier is not breached, the payoff is: (1) the bonus amount if the final price is below the bonus level, (2) the final price of the underlying if it lies between the bonus level and the cap, and (3) the cap value if the underlying finishes above the cap. However, if the barrier is touched at any point during the term, the bonus protection is lost, and the investor receives simply the final price of the underlying, fully exposed to downside risk without any cap or bonus."
   ]
  },
  {
   "cell_type": "code",
   "execution_count": null,
   "id": "dd513336-99fe-41e3-8ba7-9863f1e4648e",
   "metadata": {},
   "outputs": [
    {
     "data": {
      "text/plain": [
       "Date\n",
       "2024-06-10    22.610001\n",
       "2024-06-11    22.610001\n",
       "2024-06-12    22.540001\n",
       "2024-06-13    22.530001\n",
       "2024-06-14    22.629999\n",
       "Name: Close, dtype: float64"
      ]
     },
     "execution_count": 20,
     "metadata": {},
     "output_type": "execute_result"
    }
   ],
   "source": [
    "data[\"Close\"].tail()"
   ]
  },
  {
   "cell_type": "code",
   "execution_count": null,
   "id": "022627af-cbef-4ac6-b20a-f48a434484c4",
   "metadata": {},
   "outputs": [
    {
     "name": "stdout",
     "output_type": "stream",
     "text": [
      "2014-06-17 00:00:00 2024-06-14 00:00:00\n",
      "True\n"
     ]
    }
   ],
   "source": [
    "print(data.index.min(), data.index.max())  # range\n",
    "print(\"2024-06-14\" in data.index)          # wheter or not\n"
   ]
  },
  {
   "cell_type": "code",
   "execution_count": null,
   "id": "2185c868-9a5f-4e36-bdf0-aaf939a72eb4",
   "metadata": {},
   "outputs": [
    {
     "name": "stdout",
     "output_type": "stream",
     "text": [
      " Input Data →  P₀ = 22.6300 | H = 16 | K = 24 | r = 0.02 | T = 1 | σ = 0.2124\n",
      "Q1:0.9270177014491853, Q2:0.8953527727340574\n"
     ]
    }
   ],
   "source": [
    "H = 16\n",
    "K = 24\n",
    "r = 0.02\n",
    "T = 1  # year\n",
    "P0 = data.loc[\"2024-06-14\", \"Close\"]\n",
    "sigma = annual_vol\n",
    "\n",
    "print(f\" Input Data →  P₀ = {P0:.4f} | H = {H} | K = {K} | r = {r} | T = {T} | σ = {sigma:.4f}\")\n",
    "\n",
    "\n",
    "import numpy as np\n",
    "from scipy.stats import norm\n",
    "log_PH = np.log(P0 / H)\n",
    "sqrtT = np.sqrt(T)\n",
    "\n",
    "# Q1\n",
    "term1_Q1 = norm.cdf((log_PH + (r + 0.5 * sigma**2) * T) / (sigma * sqrtT))\n",
    "term2_Q1 = np.exp(- (2 * (r + 0.5 * sigma**2) * log_PH) / sigma**2)\n",
    "term3_Q1 = norm.cdf((-log_PH + (r + 0.5 * sigma**2) * T) / (sigma * sqrtT))\n",
    "\n",
    "Q1 = term1_Q1 - term2_Q1 * term3_Q1\n",
    "\n",
    "# Q2\n",
    "term1_Q2 = norm.cdf((log_PH + (r - 0.5 * sigma**2) * T) / (sigma * sqrtT))\n",
    "term2_Q2 =np.exp(- (2 * (r - 0.5 * sigma**2) * log_PH) / sigma**2)\n",
    "term3_Q2 = norm.cdf((-log_PH + (r - 0.5 * sigma**2) * T) / (sigma * sqrtT))\n",
    "Q2 = term1_Q2 - term2_Q2 * term3_Q2\n",
    "print(f\"Q1:{Q1}, Q2:{Q2}\")"
   ]
  },
  {
   "cell_type": "code",
   "execution_count": null,
   "id": "465163e3-75e0-4835-bf4f-717d198bc2b3",
   "metadata": {},
   "outputs": [
    {
     "name": "stdout",
     "output_type": "stream",
     "text": [
      "23.524768159362125\n"
     ]
    }
   ],
   "source": [
    "print(np.exp(-r * T) * K)"
   ]
  },
  {
   "cell_type": "code",
   "execution_count": null,
   "id": "a022d999-e937-47f3-9b97-dd6bf860b980",
   "metadata": {},
   "outputs": [
    {
     "data": {
      "text/plain": [
       "(0.9270177014491853, 0.8953527727340574, -0.08455659359989909)"
      ]
     },
     "execution_count": 109,
     "metadata": {},
     "output_type": "execute_result"
    }
   ],
   "source": [
    "# Final expected value using the given formula\n",
    "expected_value = P0 * Q1 - np.exp(-r * T) * K * Q2\n",
    "\n",
    "\n",
    "\n",
    "Q1, Q2, expected_value"
   ]
  },
  {
   "cell_type": "code",
   "execution_count": null,
   "id": "785da161-d68f-4b54-a73f-b4ff79f4341d",
   "metadata": {},
   "outputs": [
    {
     "name": "stdout",
     "output_type": "stream",
     "text": [
      "The fair price for the classical bonus certificate is: 22.545442567166702\n"
     ]
    }
   ],
   "source": [
    "fair_price_classical = P0 + expected_value\n",
    "print(f\"The fair price for the classical bonus certificate is: {fair_price_classical}\")"
   ]
  }
 ],
 "metadata": {
  "kernelspec": {
   "display_name": "tum",
   "language": "python",
   "name": "python3"
  },
  "language_info": {
   "codemirror_mode": {
    "name": "ipython",
    "version": 3
   },
   "file_extension": ".py",
   "mimetype": "text/x-python",
   "name": "python",
   "nbconvert_exporter": "python",
   "pygments_lexer": "ipython3",
   "version": "3.10.16"
  }
 },
 "nbformat": 4,
 "nbformat_minor": 5
}
